{
 "cells": [
  {
   "cell_type": "code",
   "execution_count": 19,
   "metadata": {},
   "outputs": [],
   "source": [
    "import pandas as pd\n",
    "import mysql.connector\n"
   ]
  },
  {
   "cell_type": "code",
   "execution_count": 20,
   "metadata": {},
   "outputs": [],
   "source": [
    "cnx = mysql.connector.connect(user = 'root',     #Username\n",
    "                            password = 'password',\n",
    "                            host = '127.0.0.1')  "
   ]
  },
  {
   "cell_type": "code",
   "execution_count": 21,
   "metadata": {},
   "outputs": [
    {
     "data": {
      "text/plain": [
       "<mysql.connector.cursor_cext.CMySQLCursor at 0x1aa80180b50>"
      ]
     },
     "execution_count": 21,
     "metadata": {},
     "output_type": "execute_result"
    }
   ],
   "source": [
    "cursor = cnx.cursor()\n",
    "cursor"
   ]
  },
  {
   "cell_type": "code",
   "execution_count": 22,
   "metadata": {},
   "outputs": [],
   "source": [
    "query = \"\"\"\n",
    "SELECT *\n",
    "FROM project2.comments;\n",
    "\"\"\"\n",
    "\n",
    "query1 = \"\"\"\n",
    "SELECT *\n",
    "FROM project2.courses;\n",
    "\"\"\"\n",
    "\n",
    "query2 = \"\"\"\n",
    "SELECT *\n",
    "FROM project2.locations;\n",
    "\"\"\"\n",
    "\n",
    "query3 = \"\"\"\n",
    "SELECT *\n",
    "FROM project2.schools;\n",
    "\"\"\""
   ]
  },
  {
   "cell_type": "code",
   "execution_count": 23,
   "metadata": {},
   "outputs": [],
   "source": [
    "cursor.execute(query)\n",
    "comments = cursor.fetchall()\n"
   ]
  },
  {
   "cell_type": "code",
   "execution_count": 27,
   "metadata": {},
   "outputs": [],
   "source": [
    "cursor.execute(query1)\n",
    "courses = cursor.fetchall()\n"
   ]
  },
  {
   "cell_type": "code",
   "execution_count": 29,
   "metadata": {},
   "outputs": [],
   "source": [
    "cursor.execute(query2)\n",
    "locations = cursor.fetchall()"
   ]
  },
  {
   "cell_type": "code",
   "execution_count": 31,
   "metadata": {},
   "outputs": [],
   "source": [
    "cursor.execute(query3)\n",
    "schools = cursor.fetchall()"
   ]
  },
  {
   "cell_type": "code",
   "execution_count": 26,
   "metadata": {},
   "outputs": [],
   "source": [
    "comments = pd.DataFrame(comments, columns = [col_name[0] for col_name in cursor.description])"
   ]
  },
  {
   "cell_type": "code",
   "execution_count": 28,
   "metadata": {},
   "outputs": [],
   "source": [
    "courses = pd.DataFrame(courses, columns = [col_name[0] for col_name in cursor.description])"
   ]
  },
  {
   "cell_type": "code",
   "execution_count": 34,
   "metadata": {},
   "outputs": [
    {
     "data": {
      "text/html": [
       "<div>\n",
       "<style scoped>\n",
       "    .dataframe tbody tr th:only-of-type {\n",
       "        vertical-align: middle;\n",
       "    }\n",
       "\n",
       "    .dataframe tbody tr th {\n",
       "        vertical-align: top;\n",
       "    }\n",
       "\n",
       "    .dataframe thead th {\n",
       "        text-align: right;\n",
       "    }\n",
       "</style>\n",
       "<table border=\"1\" class=\"dataframe\">\n",
       "  <thead>\n",
       "    <tr style=\"text-align: right;\">\n",
       "      <th></th>\n",
       "      <th>website</th>\n",
       "      <th>description</th>\n",
       "      <th>LogoUrl</th>\n",
       "      <th>school</th>\n",
       "      <th>school_id</th>\n",
       "    </tr>\n",
       "  </thead>\n",
       "  <tbody>\n",
       "    <tr>\n",
       "      <th>0</th>\n",
       "      <td>NaN</td>\n",
       "      <td>Berlin, Germany</td>\n",
       "      <td>NaN</td>\n",
       "      <td>ironhack</td>\n",
       "      <td>10828</td>\n",
       "    </tr>\n",
       "    <tr>\n",
       "      <th>1</th>\n",
       "      <td>NaN</td>\n",
       "      <td>Mexico City, Mexico</td>\n",
       "      <td>NaN</td>\n",
       "      <td>ironhack</td>\n",
       "      <td>10828</td>\n",
       "    </tr>\n",
       "    <tr>\n",
       "      <th>2</th>\n",
       "      <td>NaN</td>\n",
       "      <td>Amsterdam, Netherlands</td>\n",
       "      <td>NaN</td>\n",
       "      <td>ironhack</td>\n",
       "      <td>10828</td>\n",
       "    </tr>\n",
       "    <tr>\n",
       "      <th>3</th>\n",
       "      <td>NaN</td>\n",
       "      <td>Sao Paulo, Brazil</td>\n",
       "      <td>NaN</td>\n",
       "      <td>ironhack</td>\n",
       "      <td>10828</td>\n",
       "    </tr>\n",
       "    <tr>\n",
       "      <th>4</th>\n",
       "      <td>NaN</td>\n",
       "      <td>Paris, France</td>\n",
       "      <td>NaN</td>\n",
       "      <td>ironhack</td>\n",
       "      <td>10828</td>\n",
       "    </tr>\n",
       "    <tr>\n",
       "      <th>5</th>\n",
       "      <td>NaN</td>\n",
       "      <td>Miami, FL, United States</td>\n",
       "      <td>NaN</td>\n",
       "      <td>ironhack</td>\n",
       "      <td>10828</td>\n",
       "    </tr>\n",
       "    <tr>\n",
       "      <th>6</th>\n",
       "      <td>NaN</td>\n",
       "      <td>Madrid, Spain</td>\n",
       "      <td>NaN</td>\n",
       "      <td>ironhack</td>\n",
       "      <td>10828</td>\n",
       "    </tr>\n",
       "    <tr>\n",
       "      <th>7</th>\n",
       "      <td>NaN</td>\n",
       "      <td>Barcelona, Spain</td>\n",
       "      <td>NaN</td>\n",
       "      <td>ironhack</td>\n",
       "      <td>10828</td>\n",
       "    </tr>\n",
       "    <tr>\n",
       "      <th>8</th>\n",
       "      <td>NaN</td>\n",
       "      <td>Lisbon, Portugal</td>\n",
       "      <td>NaN</td>\n",
       "      <td>ironhack</td>\n",
       "      <td>10828</td>\n",
       "    </tr>\n",
       "    <tr>\n",
       "      <th>9</th>\n",
       "      <td>NaN</td>\n",
       "      <td>Online</td>\n",
       "      <td>NaN</td>\n",
       "      <td>ironhack</td>\n",
       "      <td>10828</td>\n",
       "    </tr>\n",
       "    <tr>\n",
       "      <th>10</th>\n",
       "      <td>NaN</td>\n",
       "      <td>San Francisco, CA, United States</td>\n",
       "      <td>NaN</td>\n",
       "      <td>app-academy</td>\n",
       "      <td>10525</td>\n",
       "    </tr>\n",
       "    <tr>\n",
       "      <th>11</th>\n",
       "      <td>NaN</td>\n",
       "      <td>New York City, NY, United States</td>\n",
       "      <td>NaN</td>\n",
       "      <td>app-academy</td>\n",
       "      <td>10525</td>\n",
       "    </tr>\n",
       "    <tr>\n",
       "      <th>12</th>\n",
       "      <td>NaN</td>\n",
       "      <td>Online</td>\n",
       "      <td>NaN</td>\n",
       "      <td>app-academy</td>\n",
       "      <td>10525</td>\n",
       "    </tr>\n",
       "    <tr>\n",
       "      <th>13</th>\n",
       "      <td>NaN</td>\n",
       "      <td>Online</td>\n",
       "      <td>NaN</td>\n",
       "      <td>springboard</td>\n",
       "      <td>11035</td>\n",
       "    </tr>\n",
       "  </tbody>\n",
       "</table>\n",
       "</div>"
      ],
      "text/plain": [
       "    website                       description  LogoUrl       school  school_id\n",
       "0       NaN                   Berlin, Germany      NaN     ironhack      10828\n",
       "1       NaN               Mexico City, Mexico      NaN     ironhack      10828\n",
       "2       NaN            Amsterdam, Netherlands      NaN     ironhack      10828\n",
       "3       NaN                 Sao Paulo, Brazil      NaN     ironhack      10828\n",
       "4       NaN                     Paris, France      NaN     ironhack      10828\n",
       "5       NaN          Miami, FL, United States      NaN     ironhack      10828\n",
       "6       NaN                     Madrid, Spain      NaN     ironhack      10828\n",
       "7       NaN                  Barcelona, Spain      NaN     ironhack      10828\n",
       "8       NaN                  Lisbon, Portugal      NaN     ironhack      10828\n",
       "9       NaN                            Online      NaN     ironhack      10828\n",
       "10      NaN  San Francisco, CA, United States      NaN  app-academy      10525\n",
       "11      NaN  New York City, NY, United States      NaN  app-academy      10525\n",
       "12      NaN                            Online      NaN  app-academy      10525\n",
       "13      NaN                            Online      NaN  springboard      11035"
      ]
     },
     "execution_count": 34,
     "metadata": {},
     "output_type": "execute_result"
    }
   ],
   "source": [
    "locations = pd.DataFrame(locations, columns = [col_name[0] for col_name in cursor.description])\n",
    "locations"
   ]
  },
  {
   "cell_type": "code",
   "execution_count": 33,
   "metadata": {},
   "outputs": [
    {
     "data": {
      "text/html": [
       "<div>\n",
       "<style scoped>\n",
       "    .dataframe tbody tr th:only-of-type {\n",
       "        vertical-align: middle;\n",
       "    }\n",
       "\n",
       "    .dataframe tbody tr th {\n",
       "        vertical-align: top;\n",
       "    }\n",
       "\n",
       "    .dataframe thead th {\n",
       "        text-align: right;\n",
       "    }\n",
       "</style>\n",
       "<table border=\"1\" class=\"dataframe\">\n",
       "  <thead>\n",
       "    <tr style=\"text-align: right;\">\n",
       "      <th></th>\n",
       "      <th>website</th>\n",
       "      <th>description</th>\n",
       "      <th>LogoUrl</th>\n",
       "      <th>school</th>\n",
       "      <th>school_id</th>\n",
       "    </tr>\n",
       "  </thead>\n",
       "  <tbody>\n",
       "    <tr>\n",
       "      <th>0</th>\n",
       "      <td>www.ironhack.com/en</td>\n",
       "      <td>&lt;span class=\"truncatable\"&gt;&lt;p&gt;Ironhack is a glo...</td>\n",
       "      <td>https://d92mrp7hetgfk.cloudfront.net/images/si...</td>\n",
       "      <td>ironhack</td>\n",
       "      <td>10828</td>\n",
       "    </tr>\n",
       "    <tr>\n",
       "      <th>1</th>\n",
       "      <td>appacademy.io</td>\n",
       "      <td>&lt;span class=\"truncatable\"&gt;&lt;p&gt;App Academy is a ...</td>\n",
       "      <td>https://d92mrp7hetgfk.cloudfront.net/images/si...</td>\n",
       "      <td>app-academy</td>\n",
       "      <td>10525</td>\n",
       "    </tr>\n",
       "    <tr>\n",
       "      <th>2</th>\n",
       "      <td>www.springboard.com/?utm_source=switchup&amp;utm_m...</td>\n",
       "      <td>&lt;span class=\"truncatable\"&gt;&lt;p&gt;Springboard is an...</td>\n",
       "      <td>https://d92mrp7hetgfk.cloudfront.net/images/si...</td>\n",
       "      <td>springboard</td>\n",
       "      <td>11035</td>\n",
       "    </tr>\n",
       "  </tbody>\n",
       "</table>\n",
       "</div>"
      ],
      "text/plain": [
       "                                             website  \\\n",
       "0                                www.ironhack.com/en   \n",
       "1                                      appacademy.io   \n",
       "2  www.springboard.com/?utm_source=switchup&utm_m...   \n",
       "\n",
       "                                         description  \\\n",
       "0  <span class=\"truncatable\"><p>Ironhack is a glo...   \n",
       "1  <span class=\"truncatable\"><p>App Academy is a ...   \n",
       "2  <span class=\"truncatable\"><p>Springboard is an...   \n",
       "\n",
       "                                             LogoUrl       school  school_id  \n",
       "0  https://d92mrp7hetgfk.cloudfront.net/images/si...     ironhack      10828  \n",
       "1  https://d92mrp7hetgfk.cloudfront.net/images/si...  app-academy      10525  \n",
       "2  https://d92mrp7hetgfk.cloudfront.net/images/si...  springboard      11035  "
      ]
     },
     "execution_count": 33,
     "metadata": {},
     "output_type": "execute_result"
    }
   ],
   "source": [
    "schools = pd.DataFrame(schools, columns = [col_name[0] for col_name in cursor.description])\n",
    "schools"
   ]
  },
  {
   "cell_type": "code",
   "execution_count": null,
   "metadata": {},
   "outputs": [],
   "source": []
  }
 ],
 "metadata": {
  "kernelspec": {
   "display_name": "Python 3.9.12 ('ironhack')",
   "language": "python",
   "name": "python3"
  },
  "language_info": {
   "codemirror_mode": {
    "name": "ipython",
    "version": 3
   },
   "file_extension": ".py",
   "mimetype": "text/x-python",
   "name": "python",
   "nbconvert_exporter": "python",
   "pygments_lexer": "ipython3",
   "version": "3.9.12"
  },
  "orig_nbformat": 4,
  "vscode": {
   "interpreter": {
    "hash": "0094f863879e23567bc7f1203464ab0e17c9a144de34e46277031dbb63b00f13"
   }
  }
 },
 "nbformat": 4,
 "nbformat_minor": 2
}
