{
 "cells": [
  {
   "cell_type": "code",
   "execution_count": 19,
   "metadata": {},
   "outputs": [],
   "source": [
    "import pandas as pd\n",
    "import mysql.connector\n"
   ]
  },
  {
   "cell_type": "code",
   "execution_count": 20,
   "metadata": {},
   "outputs": [],
   "source": [
    "cnx = mysql.connector.connect(user = 'root',     #Username\n",
    "                            password = 'password',\n",
    "                            host = '127.0.0.1')  "
   ]
  },
  {
   "cell_type": "code",
   "execution_count": 21,
   "metadata": {},
   "outputs": [
    {
     "data": {
      "text/plain": [
       "<mysql.connector.cursor_cext.CMySQLCursor at 0x1aa80180b50>"
      ]
     },
     "execution_count": 21,
     "metadata": {},
     "output_type": "execute_result"
    }
   ],
   "source": [
    "cursor = cnx.cursor()\n",
    "cursor"
   ]
  },
  {
   "cell_type": "code",
   "execution_count": 22,
   "metadata": {},
   "outputs": [],
   "source": [
    "query = \"\"\"\n",
    "SELECT *\n",
    "FROM project2.comments;\n",
    "\"\"\"\n",
    "\n",
    "query1 = \"\"\"\n",
    "SELECT *\n",
    "FROM project2.courses;\n",
    "\"\"\"\n",
    "\n",
    "query2 = \"\"\"\n",
    "SELECT *\n",
    "FROM project2.locations;\n",
    "\"\"\"\n",
    "\n",
    "query3 = \"\"\"\n",
    "SELECT *\n",
    "FROM project2.schools;\n",
    "\"\"\""
   ]
  },
  {
   "cell_type": "code",
   "execution_count": 23,
   "metadata": {},
   "outputs": [],
   "source": [
    "cursor.execute(query)\n",
    "comments = cursor.fetchall()\n",
    "\n",
    "comments = pd.DataFrame(comments, columns = [col_name[0] for col_name in cursor.description])\n",
    "comments\n"
   ]
  },
  {
   "cell_type": "code",
   "execution_count": 27,
   "metadata": {},
   "outputs": [],
   "source": [
    "cursor.execute(query1)\n",
    "courses = cursor.fetchall()\n",
    "\n",
    "courses = pd.DataFrame(courses, columns = [col_name[0] for col_name in cursor.description])\n",
    "courses\n"
   ]
  },
  {
   "cell_type": "code",
   "execution_count": 29,
   "metadata": {},
   "outputs": [],
   "source": [
    "cursor.execute(query2)\n",
    "locations = cursor.fetchall()\n",
    "\n",
    "locations = pd.DataFrame(locations, columns = [col_name[0] for col_name in cursor.description])\n",
    "locations"
   ]
  },
  {
   "cell_type": "code",
   "execution_count": 31,
   "metadata": {},
   "outputs": [],
   "source": [
    "cursor.execute(query3)\n",
    "schools = cursor.fetchall()\n",
    "\n",
    "schools = pd.DataFrame(schools, columns = [col_name[0] for col_name in cursor.description])\n",
    "schools"
   ]
  }
 ],
 "metadata": {
  "kernelspec": {
   "display_name": "Python 3.9.12 ('ironhack')",
   "language": "python",
   "name": "python3"
  },
  "language_info": {
   "codemirror_mode": {
    "name": "ipython",
    "version": 3
   },
   "file_extension": ".py",
   "mimetype": "text/x-python",
   "name": "python",
   "nbconvert_exporter": "python",
   "pygments_lexer": "ipython3",
   "version": "3.9.12"
  },
  "orig_nbformat": 4,
  "vscode": {
   "interpreter": {
    "hash": "0094f863879e23567bc7f1203464ab0e17c9a144de34e46277031dbb63b00f13"
   }
  }
 },
 "nbformat": 4,
 "nbformat_minor": 2
}
